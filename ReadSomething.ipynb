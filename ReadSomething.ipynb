{
 "cells": [
  {
   "cell_type": "code",
   "execution_count": 1,
   "metadata": {
    "collapsed": true
   },
   "outputs": [],
   "source": [
    "from pymongo import MongoClient"
   ]
  },
  {
   "cell_type": "code",
   "execution_count": 2,
   "metadata": {
    "collapsed": true
   },
   "outputs": [],
   "source": [
    "import numpy as np"
   ]
  },
  {
   "cell_type": "code",
   "execution_count": 3,
   "metadata": {
    "collapsed": true
   },
   "outputs": [],
   "source": [
    "import pandas as pd"
   ]
  },
  {
   "cell_type": "code",
   "execution_count": 4,
   "metadata": {
    "collapsed": true
   },
   "outputs": [],
   "source": [
    "from collections import defaultdict"
   ]
  },
  {
   "cell_type": "code",
   "execution_count": 5,
   "metadata": {
    "collapsed": true
   },
   "outputs": [],
   "source": [
    "mongo = MongoClient()"
   ]
  },
  {
   "cell_type": "code",
   "execution_count": 6,
   "metadata": {
    "collapsed": false
   },
   "outputs": [],
   "source": [
    "db = mongo.declarator"
   ]
  },
  {
   "cell_type": "code",
   "execution_count": 7,
   "metadata": {
    "collapsed": false
   },
   "outputs": [
    {
     "data": {
      "text/plain": [
       "['declarations']"
      ]
     },
     "execution_count": 7,
     "metadata": {},
     "output_type": "execute_result"
    }
   ],
   "source": [
    "db.collection_names()"
   ]
  },
  {
   "cell_type": "code",
   "execution_count": 8,
   "metadata": {
    "collapsed": true
   },
   "outputs": [],
   "source": [
    "from flat_price import FlatPricing"
   ]
  },
  {
   "cell_type": "code",
   "execution_count": 9,
   "metadata": {
    "collapsed": true
   },
   "outputs": [],
   "source": [
    "flat_pricing = FlatPricing()"
   ]
  },
  {
   "cell_type": "code",
   "execution_count": 10,
   "metadata": {
    "collapsed": false,
    "scrolled": false
   },
   "outputs": [],
   "source": [
    "milonov = list(db.declarations.find({\n",
    "    'main.person.name': {'$regex': \"Милонов\"},\n",
    "    'main.document_type.id': 1\n",
    "}))"
   ]
  },
  {
   "cell_type": "code",
   "execution_count": 11,
   "metadata": {
    "collapsed": true
   },
   "outputs": [],
   "source": [
    "from collections import abc\n",
    "def nested_dict_iter(nested, path):\n",
    "    for key, value in nested.items():\n",
    "        if isinstance(value, abc.Mapping):\n",
    "            yield key, value, path\n",
    "            yield from nested_dict_iter(value, path + [key])\n",
    "        else:\n",
    "            yield key, value, path"
   ]
  },
  {
   "cell_type": "code",
   "execution_count": 12,
   "metadata": {
    "collapsed": true
   },
   "outputs": [],
   "source": [
    "def get_possible_regions(person):\n",
    "    for main in person:\n",
    "        for key, val, path in nested_dict_iter(main, []):\n",
    "            if key == 'region':\n",
    "                if val:\n",
    "                    yield val, path"
   ]
  },
  {
   "cell_type": "code",
   "execution_count": 13,
   "metadata": {
    "collapsed": true
   },
   "outputs": [],
   "source": [
    "def estimate_item(item, possible_regions):\n",
    "    item_region = item.get('region')\n",
    "    if not item_region:\n",
    "        item_region = possible_regions\n",
    "    else:\n",
    "        item_region = [item_region['name']]\n",
    "        \n",
    "    item_type = item['type']['name']\n",
    "    coef, depend_on_square = flat_pricing.price_coef[item_type]\n",
    "    \n",
    "    mean_square = flat_pricing.median_sqrs.get(item_type, 1)\n",
    "    \n",
    "    if depend_on_square:\n",
    "        square = item.get('square') or mean_square\n",
    "    else:\n",
    "        square = 1\n",
    "        \n",
    "    share = item.get('share') or 1.0\n",
    "        \n",
    "    prices = []\n",
    "    for region in item_region:\n",
    "        estimated_price = int(flat_pricing.get_price(region, year) * square * coef * share)\n",
    "        prices.append(estimated_price)\n",
    "    mean_price = np.mean(prices)\n",
    "    \n",
    "    return mean_price"
   ]
  },
  {
   "cell_type": "code",
   "execution_count": 14,
   "metadata": {
    "collapsed": true
   },
   "outputs": [],
   "source": [
    "skip_own_types = {\n",
    "    'Безвозмездное пользование',\n",
    "    'Служебное жилье',\n",
    "    'Наём (аренда)',\n",
    "    'Фактическое предоставление',\n",
    "    'В пользовании'\n",
    "}"
   ]
  },
  {
   "cell_type": "code",
   "execution_count": 15,
   "metadata": {
    "collapsed": true
   },
   "outputs": [],
   "source": [
    "def estimate_all_real_estates(person, possible_regions):\n",
    "    year = person['main']['year']\n",
    "    \n",
    "    if not possible_regions:\n",
    "        possible_regions = [None]\n",
    "\n",
    "    prop = 'real_estates'\n",
    "    real_estates = person.get(prop) or []\n",
    "    \n",
    "    res = res = {\n",
    "        prop + '_self_price': 0,\n",
    "        prop + '_rel_price': 0\n",
    "    }\n",
    "    \n",
    "    for item in real_estates:\n",
    "\n",
    "        if item.get('own_type', {}).get('name') in skip_own_types:\n",
    "            continue\n",
    "        \n",
    "        price = estimate_item(item, possible_regions)\n",
    "        if not item.get('relative'):\n",
    "            res[prop + '_self_price'] += price\n",
    "        else:\n",
    "            res[prop + '_rel_price'] += price\n",
    "            \n",
    "    return res"
   ]
  },
  {
   "cell_type": "code",
   "execution_count": 16,
   "metadata": {
    "collapsed": false
   },
   "outputs": [],
   "source": [
    "def count_things(person, prop='real_estates'):\n",
    "    res = {\n",
    "        prop + '_self_count': 0,\n",
    "        prop + '_rel_count': 0\n",
    "    }\n",
    "    items = person.get(prop) or []\n",
    "    for item in items:\n",
    "        if item.get('own_type', {}).get('name') in skip_own_types:\n",
    "            continue\n",
    "            \n",
    "        if not item.get('relative'):\n",
    "            res[prop + '_self_count'] += 1\n",
    "        else:\n",
    "            res[prop + '_rel_count'] += 1\n",
    "    return res"
   ]
  },
  {
   "cell_type": "code",
   "execution_count": 45,
   "metadata": {
    "collapsed": true
   },
   "outputs": [],
   "source": [
    "def count_field(person, prop='incomes', field='size'):\n",
    "    res = {\n",
    "        prop + '_self_' + field: 0,\n",
    "        prop + '_rel_' + field: 0\n",
    "    }\n",
    "    items = person.get(prop) or []\n",
    "    for item in items:\n",
    "        if item.get('own_type', {}).get('name') in skip_own_types:\n",
    "            continue\n",
    "                        \n",
    "        if not item.get('relative'):\n",
    "            res[prop + '_self_' + field] += item.get(field, 0) or 0\n",
    "        else:\n",
    "            res[prop + '_rel_' + field] += item.get(field, 0) or 0\n",
    "            \n",
    "    return res"
   ]
  },
  {
   "cell_type": "code",
   "execution_count": 46,
   "metadata": {
    "collapsed": false
   },
   "outputs": [],
   "source": [
    "possible_regions = set(map(lambda x: x[0]['name'], get_possible_regions(milonov)))"
   ]
  },
  {
   "cell_type": "code",
   "execution_count": 47,
   "metadata": {
    "collapsed": false
   },
   "outputs": [
    {
     "name": "stdout",
     "output_type": "stream",
     "text": [
      "2010 1\n",
      "2011 1\n",
      "2012 1\n",
      "2013 1\n",
      "2014 1\n",
      "2015 1\n",
      "2016 1\n"
     ]
    }
   ],
   "source": [
    "declarations_by_year = sorted(milonov, key=lambda x: x['main']['year'])\n",
    "\n",
    "trends = []\n",
    "for declaration in declarations_by_year:\n",
    "    year = declaration['main']['year']\n",
    "    price = estimate_all_real_estates(declaration, possible_regions)\n",
    "    counts_estates = count_things(declaration, 'real_estates')\n",
    "    counts_vehicles = count_things(declaration, 'vehicles')\n",
    "    incomes = count_field(declaration)\n",
    "    \n",
    "    sqrs = count_field(declaration, 'real_estates', 'square')\n",
    "    \n",
    "    features = {**price, **counts_estates, **counts_vehicles, **incomes, **sqrs, \"year\": year}\n",
    "    \n",
    "    trends.append(features)\n",
    "    print(year, declaration['main']['document_type']['id'])"
   ]
  },
  {
   "cell_type": "code",
   "execution_count": 48,
   "metadata": {
    "collapsed": false
   },
   "outputs": [
    {
     "data": {
      "text/plain": [
       "{'real_estates_rel_square': 72.7, 'real_estates_self_square': 2003.01}"
      ]
     },
     "execution_count": 48,
     "metadata": {},
     "output_type": "execute_result"
    }
   ],
   "source": [
    "count_field(declaration, 'real_estates', 'square')"
   ]
  },
  {
   "cell_type": "code",
   "execution_count": 49,
   "metadata": {
    "collapsed": false
   },
   "outputs": [],
   "source": [
    "diffs = []\n",
    "for prev, follow in zip(trends[:-1], trends[1:]):\n",
    "    all_keys = set(list(prev.keys()) + list(follow.keys()))\n",
    "    diff = {}\n",
    "    for key in all_keys:\n",
    "        diff[key] = follow.get(key, 0) - prev.get(key, 0)\n",
    "    diffs.append(diff)   \n",
    "        "
   ]
  },
  {
   "cell_type": "code",
   "execution_count": 51,
   "metadata": {
    "collapsed": false
   },
   "outputs": [],
   "source": [
    "df_diffs = pd.DataFrame(diffs)"
   ]
  },
  {
   "cell_type": "code",
   "execution_count": 53,
   "metadata": {
    "collapsed": false
   },
   "outputs": [],
   "source": [
    "timeline_features = df_diffs.describe().loc[['min', 'max']].to_dict()"
   ]
  },
  {
   "cell_type": "code",
   "execution_count": 54,
   "metadata": {
    "collapsed": false
   },
   "outputs": [],
   "source": [
    "timeline_features_flatten = {}\n",
    "for key, value, path in nested_dict_iter(timeline_features, []):\n",
    "    if isinstance(value, dict):\n",
    "        continue\n",
    "    flatten_key = \"_\".join(path) + \"_\" + key\n",
    "    timeline_features_flatten[flatten_key] = value"
   ]
  },
  {
   "cell_type": "code",
   "execution_count": 55,
   "metadata": {
    "collapsed": false
   },
   "outputs": [
    {
     "data": {
      "text/plain": [
       "{'incomes_rel_size_max': 8100000.0,\n",
       " 'incomes_rel_size_min': -8126363.609999999,\n",
       " 'incomes_self_size_max': 1500720.51,\n",
       " 'incomes_self_size_min': -1496937.69,\n",
       " 'real_estates_rel_count_max': 1.0,\n",
       " 'real_estates_rel_count_min': -3.0,\n",
       " 'real_estates_rel_price_max': 19586823.0,\n",
       " 'real_estates_rel_price_min': -19849245.0,\n",
       " 'real_estates_rel_square_max': 107.60000000000001,\n",
       " 'real_estates_rel_square_min': -958.5999999999999,\n",
       " 'real_estates_self_count_max': 1.0,\n",
       " 'real_estates_self_count_min': -1.0,\n",
       " 'real_estates_self_price_max': 15819453.0,\n",
       " 'real_estates_self_price_min': -14990669.0,\n",
       " 'real_estates_self_square_max': 107.59999999999991,\n",
       " 'real_estates_self_square_min': -107.59999999999991,\n",
       " 'vehicles_rel_count_max': 0.0,\n",
       " 'vehicles_rel_count_min': 0.0,\n",
       " 'vehicles_self_count_max': 2.0,\n",
       " 'vehicles_self_count_min': -1.0,\n",
       " 'year_max': 1.0,\n",
       " 'year_min': 1.0}"
      ]
     },
     "execution_count": 55,
     "metadata": {},
     "output_type": "execute_result"
    }
   ],
   "source": [
    "timeline_features_flatten"
   ]
  },
  {
   "cell_type": "code",
   "execution_count": 57,
   "metadata": {
    "collapsed": false
   },
   "outputs": [],
   "source": [
    "timeline_features_flatten['regions'] = possible_regions"
   ]
  },
  {
   "cell_type": "code",
   "execution_count": 58,
   "metadata": {
    "collapsed": false
   },
   "outputs": [
    {
     "data": {
      "text/plain": [
       "{'incomes_rel_size_max': 8100000.0,\n",
       " 'incomes_rel_size_min': -8126363.609999999,\n",
       " 'incomes_self_size_max': 1500720.51,\n",
       " 'incomes_self_size_min': -1496937.69,\n",
       " 'real_estates_rel_count_max': 1.0,\n",
       " 'real_estates_rel_count_min': -3.0,\n",
       " 'real_estates_rel_price_max': 19586823.0,\n",
       " 'real_estates_rel_price_min': -19849245.0,\n",
       " 'real_estates_rel_square_max': 107.60000000000001,\n",
       " 'real_estates_rel_square_min': -958.5999999999999,\n",
       " 'real_estates_self_count_max': 1.0,\n",
       " 'real_estates_self_count_min': -1.0,\n",
       " 'real_estates_self_price_max': 15819453.0,\n",
       " 'real_estates_self_price_min': -14990669.0,\n",
       " 'real_estates_self_square_max': 107.59999999999991,\n",
       " 'real_estates_self_square_min': -107.59999999999991,\n",
       " 'regions': {'Санкт-Петербург'},\n",
       " 'vehicles_rel_count_max': 0.0,\n",
       " 'vehicles_rel_count_min': 0.0,\n",
       " 'vehicles_self_count_max': 2.0,\n",
       " 'vehicles_self_count_min': -1.0,\n",
       " 'year_max': 1.0,\n",
       " 'year_min': 1.0}"
      ]
     },
     "execution_count": 58,
     "metadata": {},
     "output_type": "execute_result"
    }
   ],
   "source": [
    "timeline_features_flatten"
   ]
  },
  {
   "cell_type": "code",
   "execution_count": null,
   "metadata": {
    "collapsed": true
   },
   "outputs": [],
   "source": []
  }
 ],
 "metadata": {
  "kernelspec": {
   "display_name": "Python [conda root]",
   "language": "python",
   "name": "conda-root-py"
  },
  "language_info": {
   "codemirror_mode": {
    "name": "ipython",
    "version": 3
   },
   "file_extension": ".py",
   "mimetype": "text/x-python",
   "name": "python",
   "nbconvert_exporter": "python",
   "pygments_lexer": "ipython3",
   "version": "3.5.2"
  }
 },
 "nbformat": 4,
 "nbformat_minor": 2
}
