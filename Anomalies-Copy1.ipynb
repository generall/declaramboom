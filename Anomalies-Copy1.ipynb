{
 "cells": [
  {
   "cell_type": "code",
   "execution_count": 1,
   "metadata": {
    "collapsed": true
   },
   "outputs": [],
   "source": [
    "import pandas as pd"
   ]
  },
  {
   "cell_type": "code",
   "execution_count": 2,
   "metadata": {
    "collapsed": true
   },
   "outputs": [],
   "source": [
    "import numpy as np"
   ]
  },
  {
   "cell_type": "code",
   "execution_count": 3,
   "metadata": {
    "collapsed": true
   },
   "outputs": [],
   "source": [
    "df = pd.read_csv('data/all_features_with_region.csv')"
   ]
  },
  {
   "cell_type": "code",
   "execution_count": 4,
   "metadata": {
    "collapsed": true
   },
   "outputs": [],
   "source": [
    "names = pd.read_csv('data/all_names.csv')"
   ]
  },
  {
   "cell_type": "code",
   "execution_count": 5,
   "metadata": {
    "collapsed": false
   },
   "outputs": [],
   "source": [
    "from sklearn.ensemble import IsolationForest"
   ]
  },
  {
   "cell_type": "code",
   "execution_count": 6,
   "metadata": {
    "collapsed": true
   },
   "outputs": [],
   "source": [
    "from sklearn.preprocessing import LabelEncoder"
   ]
  },
  {
   "cell_type": "code",
   "execution_count": 7,
   "metadata": {
    "collapsed": true
   },
   "outputs": [],
   "source": [
    "import matplotlib.pyplot as plt"
   ]
  },
  {
   "cell_type": "code",
   "execution_count": 8,
   "metadata": {
    "collapsed": true
   },
   "outputs": [],
   "source": [
    "le = LabelEncoder()"
   ]
  },
  {
   "cell_type": "code",
   "execution_count": 9,
   "metadata": {
    "collapsed": false
   },
   "outputs": [],
   "source": [
    "df.region = df.region.fillna(\"\")"
   ]
  },
  {
   "cell_type": "code",
   "execution_count": 10,
   "metadata": {
    "collapsed": false
   },
   "outputs": [],
   "source": [
    "ratio_features = pd.DataFrame({\n",
    "    \"ratio_buying_price_self\": df['diff_real_estates_self_price_max'] / df['incomes_self_size_max'],\n",
    "    \"ratio_buying_price_rel\": df['diff_real_estates_rel_price_max'] / df['incomes_rel_size_max'],\n",
    "    \"ratio_buying_count_self\": df['diff_real_estates_self_count_max'] / df['incomes_self_size_max'],\n",
    "    \"ratio_buying_count_rel\": df['diff_real_estates_rel_count_max'] / df['incomes_rel_size_max'],\n",
    "    \"aaa\": df['diff_incomes_self_size_max'] / df['incomes_self_size_mean'],\n",
    "    'bbb': df['diff_real_estates_self_price_max'] / df['diff_incomes_self_size_max'],\n",
    "    \"ccc\": df['real_estates_self_price_max'] / df['incomes_self_size_mean'],\n",
    "    \n",
    "}).replace([np.inf, -np.inf], np.nan).fillna(0)"
   ]
  },
  {
   "cell_type": "code",
   "execution_count": 11,
   "metadata": {
    "collapsed": false
   },
   "outputs": [],
   "source": [
    "label_region = le.fit_transform(df.region)"
   ]
  },
  {
   "cell_type": "code",
   "execution_count": 12,
   "metadata": {
    "collapsed": false
   },
   "outputs": [],
   "source": [
    "df.region = label_region"
   ]
  },
  {
   "cell_type": "code",
   "execution_count": 13,
   "metadata": {
    "collapsed": true
   },
   "outputs": [],
   "source": [
    "is_fo = IsolationForest()"
   ]
  },
  {
   "cell_type": "code",
   "execution_count": 14,
   "metadata": {
    "collapsed": false
   },
   "outputs": [
    {
     "data": {
      "text/plain": [
       "IsolationForest(bootstrap=False, contamination=0.1, max_features=1.0,\n",
       "        max_samples='auto', n_estimators=100, n_jobs=1, random_state=None,\n",
       "        verbose=0)"
      ]
     },
     "execution_count": 14,
     "metadata": {},
     "output_type": "execute_result"
    }
   ],
   "source": [
    "is_fo.fit(ratio_features)"
   ]
  },
  {
   "cell_type": "code",
   "execution_count": 15,
   "metadata": {
    "collapsed": false
   },
   "outputs": [],
   "source": [
    "res = is_fo.decision_function(df)"
   ]
  },
  {
   "cell_type": "code",
   "execution_count": 16,
   "metadata": {
    "collapsed": false
   },
   "outputs": [],
   "source": [
    "top = np.argsort(res)"
   ]
  },
  {
   "cell_type": "code",
   "execution_count": 17,
   "metadata": {
    "collapsed": false
   },
   "outputs": [
    {
     "data": {
      "text/plain": [
       "-0.27179817761968794"
      ]
     },
     "execution_count": 17,
     "metadata": {},
     "output_type": "execute_result"
    }
   ],
   "source": [
    "res[146]"
   ]
  },
  {
   "cell_type": "code",
   "execution_count": 18,
   "metadata": {
    "collapsed": true
   },
   "outputs": [],
   "source": [
    "from scipy import stats"
   ]
  },
  {
   "cell_type": "code",
   "execution_count": 19,
   "metadata": {
    "collapsed": true
   },
   "outputs": [],
   "source": [
    "idx = 817"
   ]
  },
  {
   "cell_type": "code",
   "execution_count": 20,
   "metadata": {
    "collapsed": false
   },
   "outputs": [],
   "source": [
    "def feature_describer(feature_name):\n",
    "    tokens = {\n",
    "        \"diff_incomes_rel_size_max\": \"Аномальное изменение дохода у родственников\",\n",
    "        \"diff_incomes_rel_size_min\": \"Аномальное изменение дохода у родственников\",\n",
    "        \"diff_incomes_self_size_max\": \"Аномальное изменение дохода\",\n",
    "        \"diff_incomes_self_size_min\": \"Аномальное изменение дохода\",\n",
    "        \"diff_real_estates_rel_count_max\": \"Аномальное изменение числа объектов недвижимости у родственников\",\n",
    "        \"diff_real_estates_rel_count_min\": \"Аномальное изменение числа объектов недвижимости у родственников\",\n",
    "        \"diff_real_estates_rel_price_max\": \"Аномальное изменение в стоимости недвижимости у родственников\",\n",
    "        \"diff_real_estates_rel_price_min\": \"Аномальное изменение в стоимости недвижимости у родственников\",\n",
    "        \"diff_real_estates_rel_square_max\": \"Аномальное изменение в площади недвижимости у родственников\",\n",
    "        \"diff_real_estates_rel_square_min\": \"Аномальное изменение в площади недвижимости у родственников\",\n",
    "        \"diff_real_estates_self_count_max\": \"Аномальное изменение числа объектов недвижимости\",\n",
    "        \"diff_real_estates_self_count_min\": \"Аномальное изменение числа объектов недвижимости\",\n",
    "        \"diff_real_estates_self_price_max\": \"Аномальное изменение в стоимости недвижимости\",\n",
    "        \"diff_real_estates_self_price_min\": \"Аномальное изменение в стоимости недвижимости\",\n",
    "        \"diff_real_estates_self_square_max\": \"Аномальное изменение в площади недвижимости\",\n",
    "        \"diff_real_estates_self_square_min\": \"Аномальное изменение в площади недвижимости\",\n",
    "        \"diff_vehicles_rel_count_max\": \"Аномальное изменение в количестве транспортных средств у родственников\",\n",
    "        \"diff_vehicles_rel_count_min\": \"Аномальное изменение в количестве транспортных средств у родственников\",\n",
    "        \"diff_vehicles_self_count_max\": \"Аномальное изменение в количестве транспортных средств\",\n",
    "        \"diff_vehicles_self_count_min\": \"Аномальное изменение в количестве транспортных средств\",\n",
    "        \"diff_year_max\": \"Пропущена декларация за год\",\n",
    "        \"diff_year_min\": \"Пропущена декларация за год\",\n",
    "        \"incomes_rel_size_max\": \"Аномальный доход у родственников\",\n",
    "        \"incomes_rel_size_mean\": \"Аномальный доход у родственников\",\n",
    "        \"incomes_rel_size_min\": \"Аномальный доход у родственников\",\n",
    "        \"incomes_rel_size_std\": \"Аномальный доход у родственников\",\n",
    "        \"incomes_self_size_max\": \"Аномальный доход\",\n",
    "        \"incomes_self_size_mean\": \"Аномальный доход\",\n",
    "        \"incomes_self_size_min\": \"Аномальный доход\",\n",
    "        \"incomes_self_size_std\": \"Аномальный доход\",\n",
    "        \"real_estates_rel_count_max\": \"Аномальное количество недвижимости у родственников\",\n",
    "        \"real_estates_rel_count_mean\": \"Аномальное количество недвижимости у родственников\",\n",
    "        \"real_estates_rel_count_min\": \"Аномальное количество недвижимости у родственников\",\n",
    "        \"real_estates_rel_count_std\": \"Аномальное количество недвижимости у родственников\",\n",
    "        \"real_estates_rel_price_max\": \"Аномальная стоимость недвижимости у родственников\",\n",
    "        \"real_estates_rel_price_mean\": \"Аномальная стоимость недвижимости у родственников\",\n",
    "        \"real_estates_rel_price_min\": \"Аномальная стоимость недвижимости у родственников\",\n",
    "        \"real_estates_rel_price_std\": \"Аномальная стоимость недвижимости у родственников\",\n",
    "        \"real_estates_rel_square_max\": \"Аномальная площадь недвижимости у родственников\",\n",
    "        \"real_estates_rel_square_mean\": \"Аномальная площадь недвижимости у родственников\",\n",
    "        \"real_estates_rel_square_min\": \"Аномальная площадь недвижимости у родственников\",\n",
    "        \"real_estates_rel_square_std\": \"Аномальная площадь недвижимости у родственников\",\n",
    "        \"real_estates_self_count_max\": \"Аномальное количество недвижимости\",\n",
    "        \"real_estates_self_count_mean\": \"Аномальное количество недвижимости\",\n",
    "        \"real_estates_self_count_min\": \"Аномальное количество недвижимости\",\n",
    "        \"real_estates_self_count_std\": \"Аномальное количество недвижимости\",\n",
    "        \"real_estates_self_price_max\": \"Аномальная стоимость недвижимости\",\n",
    "        \"real_estates_self_price_mean\": \"Аномальная стоимость недвижимости\",\n",
    "        \"real_estates_self_price_min\": \"Аномальная стоимость недвижимости\",\n",
    "        \"real_estates_self_price_std\": \"Аномальная стоимость недвижимости\",\n",
    "        \"real_estates_self_square_max\": \"Аномальная площадь недвижимости\",\n",
    "        \"real_estates_self_square_mean\": \"Аномальная площадь недвижимости\",\n",
    "        \"real_estates_self_square_min\": \"Аномальная площадь недвижимости\",\n",
    "        \"real_estates_self_square_std\": \"Аномальная площадь недвижимости\",\n",
    "        \"vehicles_rel_count_max\": \"Аномальное количество транспортных средств у родственников\",\n",
    "        \"vehicles_rel_count_mean\": \"Аномальное количество транспортных средств у родственников\",\n",
    "        \"vehicles_rel_count_min\": \"Аномальное количество транспортных средств у родственников\",\n",
    "        \"vehicles_rel_count_std\": \"Аномальное количество транспортных средств у родственников\",\n",
    "        \"vehicles_self_count_max\": \"Аномальное количество транспортных средств\",\n",
    "        \"vehicles_self_count_mean\": \"Аномальное количество транспортных средств\",\n",
    "        \"vehicles_self_count_min\": \"Аномальное количество транспортных средств\",\n",
    "        \"vehicles_self_count_std\": \"Аномальное количество транспортных средств\",\n",
    "    }\n",
    "    \n",
    "    return tokens.get(feature_name)\n",
    "    \n",
    "    "
   ]
  },
  {
   "cell_type": "code",
   "execution_count": 21,
   "metadata": {
    "collapsed": true
   },
   "outputs": [],
   "source": [
    "rows_html = \"\"\"\n",
    "<tr scope=\"row\">\n",
    "  <td class=\"text-nowrap\">\n",
    "    <h3>{name}</h3>\n",
    "    <!--<span class=\"badge badge-warning\">Warning</span>-->\n",
    "    <span class=\"badge badge-danger\">Danger</span>\n",
    "  </td>\n",
    "  <td class=\"text-nowrap\">\n",
    "    <a href=\"{link}\">{link}</a>\n",
    "  </td>\n",
    "  <td>\n",
    "    {anomalies}\n",
    "  </td>\n",
    "</tr>\n",
    "\"\"\""
   ]
  },
  {
   "cell_type": "code",
   "execution_count": 24,
   "metadata": {
    "collapsed": false,
    "scrolled": false
   },
   "outputs": [
    {
     "name": "stdout",
     "output_type": "stream",
     "text": [
      "https://declarator.org/person/14020/ Прохоров Сергей Иванович -0.28861124626408474\n",
      "https://declarator.org/person/13374/ Васильев Сергей Львович -0.28807786314715667\n",
      "https://declarator.org/person/15009/ Кочетков Александр Анатольевич -0.28647987736650493\n",
      "https://declarator.org/person/12674/ Мамедов Хикмет Алигейдар -0.28647987736650493\n",
      "https://declarator.org/person/13787/ Шпаков Юрий Николаевич -0.28647987736650493\n",
      "https://declarator.org/person/2782/ Дубровская Татьяна Борисовна -0.28594793581687794\n",
      "https://declarator.org/person/15156/ Великий Сергей Станиславович -0.28594793581687794\n",
      "https://declarator.org/person/21013/ Кудрявцев Андрей Владимирович -0.28594793581687794\n",
      "https://declarator.org/person/13383/ Варичев Андрей Владимирович -0.28594793581687794\n",
      "https://declarator.org/person/14725/ Сабиров Рустам Наилович -0.28594793581687794\n",
      "https://declarator.org/person/14960/ Волков Андрей Александрович -0.28594793581687794\n",
      "https://declarator.org/person/14115/ Арутюнянц Арташес Владимирович -0.28594793581687794\n",
      "https://declarator.org/person/15224/ Федоров Александр Анатольевич -0.28594793581687794\n",
      "https://declarator.org/person/14699/ Колесова Анастасия Николаевна -0.28594793581687794\n",
      "https://declarator.org/person/13502/ Басанский Александр Александрович -0.28594793581687794\n",
      "https://declarator.org/person/13830/ Шадрин Дмитрий Юрьевич -0.28594793581687794\n",
      "https://declarator.org/person/13361/ Федюкин Вячеслав Александрович -0.2854163540498982\n",
      "https://declarator.org/person/14377/ Жирков Егор Петрович -0.2854163540498982\n",
      "https://declarator.org/person/2592/ Турта Сергей Александрович -0.2854163540498982\n",
      "https://declarator.org/person/1041/ Добрынин Константин Эдуардович -0.2854163540498982\n",
      "https://declarator.org/person/15018/ Зверев Алексей Владимирович -0.2854163540498982\n",
      "https://declarator.org/person/13729/ Волковский Василий Иванович -0.2854163540498982\n",
      "https://declarator.org/person/13190/ Галенко Петр Николаевич -0.2854163540498982\n",
      "https://declarator.org/person/13241/ Руднев Алексей Валентинович -0.2854163540498982\n",
      "https://declarator.org/person/14732/ Самаренкин Дмитрий Анатольевич -0.2854163540498982\n",
      "https://declarator.org/person/13167/ Калашник Сергей Викторович -0.2854163540498982\n",
      "https://declarator.org/person/15014/ Прасолов Алексей Михайлович -0.2854163540498982\n",
      "https://declarator.org/person/956/ Струков Алексей Николаевич -0.2854163540498982\n",
      "https://declarator.org/person/14734/ Смыков Виктор Васильевич -0.2854163540498982\n",
      "https://declarator.org/person/13956/ Лаврентьев Дмитрий Анатольевич -0.2854163540498982\n",
      "https://declarator.org/person/1787/ Архипенко Владимир Александрович -0.2854163540498982\n",
      "https://declarator.org/person/13231/ Михайлов Олег Владимирович -0.2854163540498982\n",
      "https://declarator.org/person/15024/ Санников Алексей Михайлович -0.2854163540498982\n",
      "https://declarator.org/person/399/ Важенин Юрий Иванович -0.2854163540498982\n",
      "https://declarator.org/person/15026/ Сорокин Николай Борисович -0.2854163540498982\n",
      "https://declarator.org/person/13010/ Красулин Виталий Владимирович -0.2854163540498982\n",
      "https://declarator.org/person/30604/ Горкавцев Владислав Степанович -0.2854163540498982\n",
      "https://declarator.org/person/12729/ Сверчков Вячеслав Михайлович -0.2854163540498982\n",
      "https://declarator.org/person/13660/ Сайгин Виктор Васильевич -0.2854163540498982\n",
      "https://declarator.org/person/13719/ Федотов Анатолий Александрович -0.2854163540498982\n",
      "https://declarator.org/person/2813/ Филимонов Роман Евгеньевич -0.2854163540498982\n",
      "https://declarator.org/person/12804/ Чернышев Андрей Владимирович -0.2854163540498982\n",
      "https://declarator.org/person/13716/ Гавриков Владимир Викторович -0.2854163540498982\n",
      "https://declarator.org/person/15393/ Фомичев Роман Юрьевич -0.2854163540498982\n",
      "https://declarator.org/person/12960/ Мещеряков Николай Иосифович -0.2854163540498982\n",
      "https://declarator.org/person/48232/ Гриманова Татьяна Николаевна -0.28488513182222386\n",
      "https://declarator.org/person/13499/ Новиков Игорь Анатольевич -0.28488513182222386\n",
      "https://declarator.org/person/14289/ Писной Леонид Александрович -0.28488513182222386\n",
      "https://declarator.org/person/30552/ Асалханов Валентин Владимирович -0.28488513182222386\n",
      "https://declarator.org/person/22108/ Сидоров Артём Георгиевич -0.28488513182222386\n",
      "https://declarator.org/person/12321/ Мансуров Валерий Адгамович -0.28488513182222386\n",
      "https://declarator.org/person/16071/ Мартынюк Владимир Константинович -0.28488513182222386\n",
      "https://declarator.org/person/22118/ Лютиков Виталий Сергеевич -0.28488513182222386\n",
      "https://declarator.org/person/14999/ Ходырев Валерий Васильевич -0.28488513182222386\n",
      "https://declarator.org/person/1633/ Чижов Олег Александрович -0.28488513182222386\n",
      "https://declarator.org/person/15832/ Фетисов Александр Борисович -0.28488513182222386\n",
      "https://declarator.org/person/14294/ Сергеев Алексей Николаевич -0.28488513182222386\n",
      "https://declarator.org/person/2585/ Сивко Вячеслав Владимирович -0.28488513182222386\n",
      "https://declarator.org/person/31136/ Шако Сергей Васильевич -0.28488513182222386\n",
      "https://declarator.org/person/18125/ Епифанов Владимир Иосифович -0.28488513182222386\n",
      "https://declarator.org/person/8816/ Елшин Евгений Борисович -0.28488513182222386\n",
      "https://declarator.org/person/14307/ Шокуров Олег Павлович -0.28488513182222386\n",
      "https://declarator.org/person/18158/ Иванова Наталья Сергеевна -0.28488513182222386\n",
      "https://declarator.org/person/8868/ Пономаренко Алексей Сергеевич -0.28488513182222386\n",
      "https://declarator.org/person/13410/ Павлова Татьяна Васильевна -0.28488513182222386\n",
      "https://declarator.org/person/2707/ Моисеев Николай Федорович -0.28488513182222386\n",
      "https://declarator.org/person/2703/ Лобанов Иван Васильевич -0.28488513182222386\n",
      "https://declarator.org/person/15041/ Рожков Михаил Юрьевич -0.28488513182222386\n",
      "https://declarator.org/person/15015/ Абашев Рашид Басырович -0.28488513182222386\n",
      "https://declarator.org/person/8905/ Тихонов Михаил Юрьевич -0.28488513182222386\n",
      "https://declarator.org/person/35204/ Уримагова Любовь Петровна -0.28488513182222386\n",
      "https://declarator.org/person/35179/ Масловский Виталий Борисович -0.28488513182222386\n",
      "https://declarator.org/person/30617/ Соловьев Станислав Валентинович -0.28488513182222386\n",
      "https://declarator.org/person/32547/ Дадяк Иван Иванович -0.28488513182222386\n",
      "https://declarator.org/person/29926/ Черепанов Сергей Юрьевич -0.28488513182222386\n",
      "https://declarator.org/person/21986/ Карпова Валерия Николаевна -0.28488513182222386\n",
      "https://declarator.org/person/1379/ Гурьев Никита Юрьевич -0.28488513182222386\n",
      "https://declarator.org/person/17817/ Якушкина Галина Ивановна -0.28488513182222386\n",
      "https://declarator.org/person/1712/ Семенов Бато Цырендондокович -0.28488513182222386\n",
      "https://declarator.org/person/16267/ Целковнев Александр Иванович -0.28488513182222386\n",
      "https://declarator.org/person/1762/ Акопян Вилен Юрьевич -0.28488513182222386\n",
      "https://declarator.org/person/17371/ Иванинский Олег Иванович -0.28488513182222386\n",
      "https://declarator.org/person/9223/ Алтухова Виктория Николаевна -0.28488513182222386\n",
      "https://declarator.org/person/12601/ Гаджимагомедов Гитиномагомед Ахмедович -0.28488513182222386\n",
      "https://declarator.org/person/4618/ Якобсон Лев Ильич -0.28488513182222386\n",
      "https://declarator.org/person/17224/ Зубрин Владимир Викторович -0.28488513182222386\n",
      "https://declarator.org/person/4642/ Мay Владимир Александрович -0.28488513182222386\n",
      "https://declarator.org/person/15323/ Рудченко Валентина Васильевна -0.28488513182222386\n",
      "https://declarator.org/person/14174/ Агапкин Михаил Иванович -0.28488513182222386\n",
      "https://declarator.org/person/39915/ Верютин Владимир Николаевич -0.28488513182222386\n",
      "https://declarator.org/person/7676/ Артемов Алексей Валерьевич -0.28488513182222386\n",
      "https://declarator.org/person/13000/ Гаврилов Алексей Васильевич -0.28488513182222386\n",
      "https://declarator.org/person/4554/ Скобелкин Дмитрий Германович -0.28488513182222386\n",
      "https://declarator.org/person/12968/ Рубахин Владимир Ильич -0.28488513182222386\n",
      "https://declarator.org/person/9545/ Янченко Марина Владимировна -0.28488513182222386\n",
      "https://declarator.org/person/5895/ Светушкова Татьяна Николаевна -0.28488513182222386\n",
      "https://declarator.org/person/2174/ Ефименко Сергей Геннадьевич -0.28488513182222386\n",
      "https://declarator.org/person/40849/ Пархоменко Иван Викторович -0.28488513182222386\n",
      "https://declarator.org/person/14930/ Кононов Алексей Викторович -0.28488513182222386\n",
      "https://declarator.org/person/14928/ Иванов Игорь Алексеевич -0.28488513182222386\n"
     ]
    }
   ],
   "source": [
    "all_rows = \"\"\n",
    "\n",
    "for idx in top[:100]:\n",
    "\n",
    "    name = names.iloc[idx]\n",
    "    declarator_id = name['id']\n",
    "\n",
    "    link = \"https://declarator.org/person/{}/\".format(declarator_id)\n",
    "    print(link, name['name'],  res[idx])\n",
    "    \n",
    "    feature_to_percentile = []\n",
    "\n",
    "    for feature, value in df.iloc[idx].to_dict().items():\n",
    "        series = df[feature]\n",
    "        percentile = stats.percentileofscore(series, value)\n",
    "        feature_to_percentile.append((percentile, feature))\n",
    "        \n",
    "    top_features = sorted(feature_to_percentile, key=lambda x: x[0], reverse=True)[:5]\n",
    "    \n",
    "    anomalies_html = \"<ul>{}</ul>\"\n",
    "    \n",
    "    lines = \"\"\n",
    "    for feature in set(map(lambda x: feature_describer(x[1]), top_features)):\n",
    "        lines += \"<li>{}</li>\".format(feature)\n",
    "        \n",
    "    anomalies_html = anomalies_html.format(lines)\n",
    "    \n",
    "    row_html = rows_html.format(anomalies=anomalies_html, link=link, name=name['name'])    \n",
    "    all_rows += row_html\n"
   ]
  },
  {
   "cell_type": "code",
   "execution_count": 25,
   "metadata": {
    "collapsed": false
   },
   "outputs": [],
   "source": [
    "with open('template.html') as fd:\n",
    "    text = fd.read()\n",
    "    text = text.format(rows=all_rows)\n",
    "    \n",
    "    with open(\"report.html\", 'w') as out:\n",
    "        out.write(text)"
   ]
  },
  {
   "cell_type": "code",
   "execution_count": null,
   "metadata": {
    "collapsed": true
   },
   "outputs": [],
   "source": []
  }
 ],
 "metadata": {
  "kernelspec": {
   "display_name": "Python [conda root]",
   "language": "python",
   "name": "conda-root-py"
  },
  "language_info": {
   "codemirror_mode": {
    "name": "ipython",
    "version": 3
   },
   "file_extension": ".py",
   "mimetype": "text/x-python",
   "name": "python",
   "nbconvert_exporter": "python",
   "pygments_lexer": "ipython3",
   "version": "3.5.2"
  }
 },
 "nbformat": 4,
 "nbformat_minor": 2
}
